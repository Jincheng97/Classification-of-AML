{
 "cells": [
  {
   "cell_type": "code",
   "execution_count": 1,
   "metadata": {},
   "outputs": [
    {
     "name": "stderr",
     "output_type": "stream",
     "text": [
      "Using TensorFlow backend.\n"
     ]
    }
   ],
   "source": [
    "from keras.layers import Input, Dense, Dropout\n",
    "from keras.models import Model\n",
    "from keras.layers.merge import concatenate\n",
    "from keras.utils import to_categorical\n",
    "from sklearn.preprocessing import LabelEncoder\n",
    "from sklearn.preprocessing import scale\n",
    "import pandas as pd\n",
    "import numpy as np\n",
    "import os"
   ]
  },
  {
   "cell_type": "code",
   "execution_count": 2,
   "metadata": {},
   "outputs": [],
   "source": [
    "def base_network(net_input):\n",
    "    output = Dense(3, activation='relu')(net_input)\n",
    "    return output"
   ]
  },
  {
   "cell_type": "code",
   "execution_count": 3,
   "metadata": {},
   "outputs": [],
   "source": [
    "def extra_network(net_input, hidden1_filter_num = 32, hidden2_filter_num = 64, hidden3_filter_num = 64, output_num=1):\n",
    "    x = Dense(hidden1_filter_num, activation='relu')(net_input)\n",
    "    x = Dense(hidden2_filter_num, activation='relu')(x)\n",
    "    x = Dense(hidden3_filter_num, activation='relu')(x)\n",
    "    x = Dropout(0.3)(x)\n",
    "    x = Dense(output_num, activation='relu')(x)\n",
    "    return x"
   ]
  },
  {
   "cell_type": "code",
   "execution_count": 4,
   "metadata": {},
   "outputs": [
    {
     "name": "stdout",
     "output_type": "stream",
     "text": [
      "WARNING:tensorflow:From C:\\Users\\jinch\\Anaconda3\\envs\\py37\\lib\\site-packages\\keras\\backend\\tensorflow_backend.py:517: The name tf.placeholder is deprecated. Please use tf.compat.v1.placeholder instead.\n",
      "\n",
      "WARNING:tensorflow:From C:\\Users\\jinch\\Anaconda3\\envs\\py37\\lib\\site-packages\\keras\\backend\\tensorflow_backend.py:74: The name tf.get_default_graph is deprecated. Please use tf.compat.v1.get_default_graph instead.\n",
      "\n",
      "WARNING:tensorflow:From C:\\Users\\jinch\\Anaconda3\\envs\\py37\\lib\\site-packages\\keras\\backend\\tensorflow_backend.py:4138: The name tf.random_uniform is deprecated. Please use tf.random.uniform instead.\n",
      "\n",
      "WARNING:tensorflow:From C:\\Users\\jinch\\Anaconda3\\envs\\py37\\lib\\site-packages\\keras\\backend\\tensorflow_backend.py:133: The name tf.placeholder_with_default is deprecated. Please use tf.compat.v1.placeholder_with_default instead.\n",
      "\n",
      "WARNING:tensorflow:From C:\\Users\\jinch\\Anaconda3\\envs\\py37\\lib\\site-packages\\keras\\backend\\tensorflow_backend.py:3445: calling dropout (from tensorflow.python.ops.nn_ops) with keep_prob is deprecated and will be removed in a future version.\n",
      "Instructions for updating:\n",
      "Please use `rate` instead of `keep_prob`. Rate should be set to `rate = 1 - keep_prob`.\n"
     ]
    }
   ],
   "source": [
    "input_shape = (7,)\n",
    "\n",
    "input1 = Input(input_shape, name = 'input1')\n",
    "input2 = Input(input_shape, name = 'input2')\n",
    "input3 = Input(input_shape, name = 'input3')\n",
    "input4 = Input(input_shape, name = 'input4')\n",
    "input5 = Input(input_shape, name = 'input5')\n",
    "input6 = Input(input_shape, name = 'input6')\n",
    "input7 = Input(input_shape, name = 'input7')\n",
    "input8 = Input(input_shape, name = 'input8')\n",
    "\n",
    "net1 = base_network(input1)\n",
    "net2 = base_network(input2)\n",
    "net3 = base_network(input3)\n",
    "net4 = base_network(input4)\n",
    "net5 = base_network(input5)\n",
    "net6 = base_network(input6)\n",
    "net7 = base_network(input7)\n",
    "net8 = base_network(input8)\n",
    "\n",
    "merged = concatenate([net1, net2, net3, net4, net5, net6, net7, net8])\n",
    "\n",
    "net_output = extra_network(merged, 32, 64, 64, 2)"
   ]
  },
  {
   "cell_type": "code",
   "execution_count": 5,
   "metadata": {},
   "outputs": [
    {
     "name": "stdout",
     "output_type": "stream",
     "text": [
      "WARNING:tensorflow:From C:\\Users\\jinch\\Anaconda3\\envs\\py37\\lib\\site-packages\\keras\\optimizers.py:790: The name tf.train.Optimizer is deprecated. Please use tf.compat.v1.train.Optimizer instead.\n",
      "\n",
      "WARNING:tensorflow:From C:\\Users\\jinch\\Anaconda3\\envs\\py37\\lib\\site-packages\\keras\\backend\\tensorflow_backend.py:3295: The name tf.log is deprecated. Please use tf.math.log instead.\n",
      "\n",
      "__________________________________________________________________________________________________\n",
      "Layer (type)                    Output Shape         Param #     Connected to                     \n",
      "==================================================================================================\n",
      "input1 (InputLayer)             (None, 7)            0                                            \n",
      "__________________________________________________________________________________________________\n",
      "input2 (InputLayer)             (None, 7)            0                                            \n",
      "__________________________________________________________________________________________________\n",
      "input3 (InputLayer)             (None, 7)            0                                            \n",
      "__________________________________________________________________________________________________\n",
      "input4 (InputLayer)             (None, 7)            0                                            \n",
      "__________________________________________________________________________________________________\n",
      "input5 (InputLayer)             (None, 7)            0                                            \n",
      "__________________________________________________________________________________________________\n",
      "input6 (InputLayer)             (None, 7)            0                                            \n",
      "__________________________________________________________________________________________________\n",
      "input7 (InputLayer)             (None, 7)            0                                            \n",
      "__________________________________________________________________________________________________\n",
      "input8 (InputLayer)             (None, 7)            0                                            \n",
      "__________________________________________________________________________________________________\n",
      "dense_1 (Dense)                 (None, 3)            24          input1[0][0]                     \n",
      "__________________________________________________________________________________________________\n",
      "dense_2 (Dense)                 (None, 3)            24          input2[0][0]                     \n",
      "__________________________________________________________________________________________________\n",
      "dense_3 (Dense)                 (None, 3)            24          input3[0][0]                     \n",
      "__________________________________________________________________________________________________\n",
      "dense_4 (Dense)                 (None, 3)            24          input4[0][0]                     \n",
      "__________________________________________________________________________________________________\n",
      "dense_5 (Dense)                 (None, 3)            24          input5[0][0]                     \n",
      "__________________________________________________________________________________________________\n",
      "dense_6 (Dense)                 (None, 3)            24          input6[0][0]                     \n",
      "__________________________________________________________________________________________________\n",
      "dense_7 (Dense)                 (None, 3)            24          input7[0][0]                     \n",
      "__________________________________________________________________________________________________\n",
      "dense_8 (Dense)                 (None, 3)            24          input8[0][0]                     \n",
      "__________________________________________________________________________________________________\n",
      "concatenate_1 (Concatenate)     (None, 24)           0           dense_1[0][0]                    \n",
      "                                                                 dense_2[0][0]                    \n",
      "                                                                 dense_3[0][0]                    \n",
      "                                                                 dense_4[0][0]                    \n",
      "                                                                 dense_5[0][0]                    \n",
      "                                                                 dense_6[0][0]                    \n",
      "                                                                 dense_7[0][0]                    \n",
      "                                                                 dense_8[0][0]                    \n",
      "__________________________________________________________________________________________________\n",
      "dense_9 (Dense)                 (None, 32)           800         concatenate_1[0][0]              \n",
      "__________________________________________________________________________________________________\n",
      "dense_10 (Dense)                (None, 64)           2112        dense_9[0][0]                    \n",
      "__________________________________________________________________________________________________\n",
      "dense_11 (Dense)                (None, 64)           4160        dense_10[0][0]                   \n",
      "__________________________________________________________________________________________________\n",
      "dropout_1 (Dropout)             (None, 64)           0           dense_11[0][0]                   \n",
      "__________________________________________________________________________________________________\n",
      "dense_12 (Dense)                (None, 2)            130         dropout_1[0][0]                  \n",
      "==================================================================================================\n",
      "Total params: 7,394\n",
      "Trainable params: 7,394\n",
      "Non-trainable params: 0\n",
      "__________________________________________________________________________________________________\n"
     ]
    }
   ],
   "source": [
    "model = Model(inputs = [input1, input2, input3, input4, input5, input6, input7, input8], outputs = net_output)\n",
    "model.compile(optimizer='adam', loss='categorical_crossentropy', metrics=['accuracy'])\n",
    "model.summary()"
   ]
  },
  {
   "cell_type": "code",
   "execution_count": 6,
   "metadata": {},
   "outputs": [],
   "source": [
    "from contextlib import redirect_stdout\n",
    "with open('model_summary.txt', 'w') as f:\n",
    "    with redirect_stdout(f):\n",
    "        model.summary()"
   ]
  },
  {
   "cell_type": "code",
   "execution_count": 7,
   "metadata": {},
   "outputs": [],
   "source": [
    "label_path = './AMLTraining.csv'\n",
    "all_label = pd.read_csv(label_path)\n",
    "files = os.listdir('./CSV/')\n",
    "\n",
    "take_normal_data = 1000\n",
    "take_aml_data = 7000\n",
    "x1 = pd.read_csv('./CSV/' + files[0]).iloc[:take_normal_data]\n",
    "x2 = pd.read_csv('./CSV/' + files[1]).iloc[:take_normal_data]\n",
    "x3 = pd.read_csv('./CSV/' + files[2]).iloc[:take_normal_data]\n",
    "x4 = pd.read_csv('./CSV/' + files[3]).iloc[:take_normal_data]\n",
    "x5 = pd.read_csv('./CSV/' + files[4]).iloc[:take_normal_data]\n",
    "x6 = pd.read_csv('./CSV/' + files[5]).iloc[:take_normal_data]\n",
    "x7 = pd.read_csv('./CSV/' + files[6]).iloc[:take_normal_data]\n",
    "x8 = pd.read_csv('./CSV/' + files[7]).iloc[:take_normal_data]\n",
    "y = all_label.iloc[:1]['Label']\n",
    "for i in range(take_normal_data - 1):\n",
    "    y = pd.concat([y, all_label.iloc[0:1]['Label']])\n",
    "for file_num, each_file in enumerate(files):\n",
    "    if file_num >= 8:\n",
    "        if all_label.iloc[file_num]['Label'] == 'normal':\n",
    "                take_data = take_normal_data\n",
    "        elif all_label.iloc[file_num]['Label'] == 'aml':\n",
    "            take_data = take_aml_data\n",
    "        else:\n",
    "            continue\n",
    "        if file_num % 8 == 0:\n",
    "            x1 = pd.concat([x1, pd.read_csv('./CSV/' + each_file)[:take_data]])\n",
    "            for i in range(take_data):\n",
    "                y = pd.concat([y, all_label.iloc[file_num:file_num+1]['Label']])\n",
    "        if file_num % 8 == 1:\n",
    "            x2 = pd.concat([x2, pd.read_csv('./CSV/' + each_file)[:take_data]])\n",
    "        if file_num % 8 == 2:\n",
    "            x3 = pd.concat([x3, pd.read_csv('./CSV/' + each_file)[:take_data]])\n",
    "        if file_num % 8 == 3:\n",
    "            x4 = pd.concat([x4, pd.read_csv('./CSV/' + each_file)[:take_data]])\n",
    "        if file_num % 8 == 4:\n",
    "            x5 = pd.concat([x5, pd.read_csv('./CSV/' + each_file)[:take_data]])\n",
    "        if file_num % 8 == 5:\n",
    "            x6 = pd.concat([x6, pd.read_csv('./CSV/' + each_file)[:take_data]])\n",
    "        if file_num % 8 == 6:\n",
    "            x7 = pd.concat([x7, pd.read_csv('./CSV/' + each_file)[:take_data]])\n",
    "        if file_num % 8 == 7:\n",
    "            x8 = pd.concat([x8, pd.read_csv('./CSV/' + each_file)[:take_data]])\n",
    "\n",
    "x1['FS Lin'] = scale(x1['FS Lin'])\n",
    "x2['FS Lin'] = scale(x2['FS Lin'])\n",
    "x3['FS Lin'] = scale(x3['FS Lin'])\n",
    "x4['FS Lin'] = scale(x4['FS Lin'])\n",
    "x5['FS Lin'] = scale(x5['FS Lin'])\n",
    "x6['FS Lin'] = scale(x6['FS Lin'])\n",
    "x7['FS Lin'] = scale(x7['FS Lin'])\n",
    "x8['FS Lin'] = scale(x8['FS Lin'])\n",
    "\n",
    "# x1.to_csv('x1.csv', index = False)\n",
    "# x2.to_csv('x2.csv', index = False)\n",
    "# x3.to_csv('x3.csv', index = False)\n",
    "# x4.to_csv('x4.csv', index = False)\n",
    "# x5.to_csv('x5.csv', index = False)\n",
    "# x6.to_csv('x6.csv', index = False)\n",
    "# x7.to_csv('x7.csv', index = False)\n",
    "# x8.to_csv('x8.csv', index = False)\n",
    "# y.to_csv('y.csv', index = False, header = True)\n",
    "\n",
    "le = LabelEncoder()\n",
    "y = le.fit_transform(y)\n",
    "y_binary = to_categorical(y)"
   ]
  },
  {
   "cell_type": "code",
   "execution_count": 8,
   "metadata": {},
   "outputs": [],
   "source": [
    "# x1 = pd.read_csv('./x1.csv')\n",
    "# x2 = pd.read_csv('./x2.csv')\n",
    "# x3 = pd.read_csv('./x3.csv')\n",
    "# x4 = pd.read_csv('./x4.csv')\n",
    "# x5 = pd.read_csv('./x5.csv')\n",
    "# x6 = pd.read_csv('./x6.csv')\n",
    "# x7 = pd.read_csv('./x7.csv')\n",
    "# x8 = pd.read_csv('./x8.csv')\n",
    "# y = pd.read_csv('./y.csv')\n",
    "# le = LabelEncoder()\n",
    "# y = le.fit_transform(y)\n",
    "# y_binary = to_categorical(y)"
   ]
  },
  {
   "cell_type": "code",
   "execution_count": 9,
   "metadata": {},
   "outputs": [
    {
     "name": "stdout",
     "output_type": "stream",
     "text": [
      "WARNING:tensorflow:From C:\\Users\\jinch\\Anaconda3\\envs\\py37\\lib\\site-packages\\tensorflow_core\\python\\ops\\math_grad.py:1424: where (from tensorflow.python.ops.array_ops) is deprecated and will be removed in a future version.\n",
      "Instructions for updating:\n",
      "Use tf.where in 2.0, which has the same broadcast rule as np.where\n",
      "WARNING:tensorflow:From C:\\Users\\jinch\\Anaconda3\\envs\\py37\\lib\\site-packages\\keras\\backend\\tensorflow_backend.py:986: The name tf.assign_add is deprecated. Please use tf.compat.v1.assign_add instead.\n",
      "\n",
      "WARNING:tensorflow:From C:\\Users\\jinch\\Anaconda3\\envs\\py37\\lib\\site-packages\\keras\\backend\\tensorflow_backend.py:973: The name tf.assign is deprecated. Please use tf.compat.v1.assign instead.\n",
      "\n",
      "WARNING:tensorflow:From C:\\Users\\jinch\\Anaconda3\\envs\\py37\\lib\\site-packages\\keras\\backend\\tensorflow_backend.py:2741: The name tf.Session is deprecated. Please use tf.compat.v1.Session instead.\n",
      "\n",
      "Train on 285300 samples, validate on 31700 samples\n",
      "Epoch 1/25\n",
      "WARNING:tensorflow:From C:\\Users\\jinch\\Anaconda3\\envs\\py37\\lib\\site-packages\\keras\\backend\\tensorflow_backend.py:174: The name tf.get_default_session is deprecated. Please use tf.compat.v1.get_default_session instead.\n",
      "\n",
      "WARNING:tensorflow:From C:\\Users\\jinch\\Anaconda3\\envs\\py37\\lib\\site-packages\\keras\\backend\\tensorflow_backend.py:181: The name tf.ConfigProto is deprecated. Please use tf.compat.v1.ConfigProto instead.\n",
      "\n",
      "WARNING:tensorflow:From C:\\Users\\jinch\\Anaconda3\\envs\\py37\\lib\\site-packages\\keras\\backend\\tensorflow_backend.py:190: The name tf.global_variables is deprecated. Please use tf.compat.v1.global_variables instead.\n",
      "\n",
      "WARNING:tensorflow:From C:\\Users\\jinch\\Anaconda3\\envs\\py37\\lib\\site-packages\\keras\\backend\\tensorflow_backend.py:199: The name tf.is_variable_initialized is deprecated. Please use tf.compat.v1.is_variable_initialized instead.\n",
      "\n",
      "WARNING:tensorflow:From C:\\Users\\jinch\\Anaconda3\\envs\\py37\\lib\\site-packages\\keras\\backend\\tensorflow_backend.py:206: The name tf.variables_initializer is deprecated. Please use tf.compat.v1.variables_initializer instead.\n",
      "\n",
      "285300/285300 [==============================] - 125s 437us/step - loss: 0.3550 - acc: 0.8569 - val_loss: 0.3918 - val_acc: 0.8445\n",
      "Epoch 2/25\n",
      "285300/285300 [==============================] - 108s 380us/step - loss: 0.2486 - acc: 0.9056 - val_loss: 0.4387 - val_acc: 0.8322\n",
      "Epoch 3/25\n",
      "285300/285300 [==============================] - 105s 369us/step - loss: 0.2391 - acc: 0.9077 - val_loss: 0.3556 - val_acc: 0.8509\n",
      "Epoch 4/25\n",
      "285300/285300 [==============================] - 105s 370us/step - loss: 0.2118 - acc: 0.9183 - val_loss: 0.3086 - val_acc: 0.8684\n",
      "Epoch 5/25\n",
      "285300/285300 [==============================] - 106s 372us/step - loss: 0.2000 - acc: 0.9228 - val_loss: 0.2683 - val_acc: 0.8998\n",
      "Epoch 6/25\n",
      "285300/285300 [==============================] - 105s 369us/step - loss: 0.1957 - acc: 0.9241 - val_loss: 0.2722 - val_acc: 0.8943\n",
      "Epoch 7/25\n",
      "285300/285300 [==============================] - 104s 366us/step - loss: 0.1927 - acc: 0.9257 - val_loss: 0.2940 - val_acc: 0.8896\n",
      "Epoch 8/25\n",
      "285300/285300 [==============================] - 95s 334us/step - loss: 0.1867 - acc: 0.9276 - val_loss: 0.2942 - val_acc: 0.8906\n",
      "Epoch 9/25\n",
      "285300/285300 [==============================] - 102s 358us/step - loss: 0.1890 - acc: 0.9261 - val_loss: 0.2594 - val_acc: 0.8898\n",
      "Epoch 10/25\n",
      "285300/285300 [==============================] - 108s 380us/step - loss: 0.1843 - acc: 0.9290 - val_loss: 0.2712 - val_acc: 0.8905\n",
      "Epoch 11/25\n",
      "285300/285300 [==============================] - 104s 366us/step - loss: 0.1790 - acc: 0.9305 - val_loss: 0.2846 - val_acc: 0.9027\n",
      "Epoch 12/25\n",
      "285300/285300 [==============================] - 104s 363us/step - loss: 0.1743 - acc: 0.9323 - val_loss: 0.2769 - val_acc: 0.8901\n",
      "Epoch 13/25\n",
      "285300/285300 [==============================] - 104s 363us/step - loss: 0.1733 - acc: 0.9325 - val_loss: 0.2968 - val_acc: 0.8830\n",
      "Epoch 14/25\n",
      "285300/285300 [==============================] - 105s 367us/step - loss: 0.1746 - acc: 0.9324 - val_loss: 0.3060 - val_acc: 0.8814\n",
      "Epoch 15/25\n",
      "285300/285300 [==============================] - 103s 361us/step - loss: 0.1678 - acc: 0.9350 - val_loss: 0.2902 - val_acc: 0.8969\n",
      "Epoch 16/25\n",
      "285300/285300 [==============================] - 103s 360us/step - loss: 0.1666 - acc: 0.9349 - val_loss: 0.3004 - val_acc: 0.8785\n",
      "Epoch 17/25\n",
      "285300/285300 [==============================] - 103s 361us/step - loss: 0.1630 - acc: 0.9361 - val_loss: 0.3179 - val_acc: 0.8699\n",
      "Epoch 18/25\n",
      "285300/285300 [==============================] - 103s 362us/step - loss: 0.1597 - acc: 0.9373 - val_loss: 0.2824 - val_acc: 0.8881\n",
      "Epoch 19/25\n",
      "285300/285300 [==============================] - 106s 370us/step - loss: 0.1620 - acc: 0.9364 - val_loss: 0.2766 - val_acc: 0.8911\n",
      "Epoch 20/25\n",
      "285300/285300 [==============================] - 104s 363us/step - loss: 0.1618 - acc: 0.9358 - val_loss: 0.2752 - val_acc: 0.8810\n",
      "Epoch 21/25\n",
      "285300/285300 [==============================] - 104s 363us/step - loss: 0.1550 - acc: 0.9395 - val_loss: 0.2701 - val_acc: 0.8900\n",
      "Epoch 22/25\n",
      "285300/285300 [==============================] - 105s 369us/step - loss: 0.1616 - acc: 0.9365 - val_loss: 0.3150 - val_acc: 0.8859\n",
      "Epoch 23/25\n",
      "285300/285300 [==============================] - 104s 363us/step - loss: 0.1536 - acc: 0.9397 - val_loss: 0.2745 - val_acc: 0.8820\n",
      "Epoch 24/25\n",
      "285300/285300 [==============================] - 103s 361us/step - loss: 0.1506 - acc: 0.9409 - val_loss: 0.2980 - val_acc: 0.8729\n",
      "Epoch 25/25\n",
      "285300/285300 [==============================] - 104s 364us/step - loss: 0.1537 - acc: 0.9401 - val_loss: 0.2871 - val_acc: 0.8816 - loss: 0.1537 - a\n"
     ]
    },
    {
     "data": {
      "text/plain": [
       "<keras.callbacks.History at 0x26382295e48>"
      ]
     },
     "execution_count": 9,
     "metadata": {},
     "output_type": "execute_result"
    }
   ],
   "source": [
    "model.fit([x1, x2, x3, x4, x5, x6, x7, x8], y=y_binary, epochs=25, batch_size=32, validation_split=0.1, shuffle=True)"
   ]
  },
  {
   "cell_type": "code",
   "execution_count": 10,
   "metadata": {},
   "outputs": [],
   "source": [
    "model.save_weights('model_weights.h5')"
   ]
  },
  {
   "cell_type": "code",
   "execution_count": 11,
   "metadata": {},
   "outputs": [],
   "source": [
    "# Save model\n",
    "model.save('model.h5')"
   ]
  },
  {
   "cell_type": "code",
   "execution_count": null,
   "metadata": {},
   "outputs": [],
   "source": []
  }
 ],
 "metadata": {
  "kernelspec": {
   "display_name": "Python 3",
   "language": "python",
   "name": "python3"
  },
  "language_info": {
   "codemirror_mode": {
    "name": "ipython",
    "version": 3
   },
   "file_extension": ".py",
   "mimetype": "text/x-python",
   "name": "python",
   "nbconvert_exporter": "python",
   "pygments_lexer": "ipython3",
   "version": "3.7.6"
  }
 },
 "nbformat": 4,
 "nbformat_minor": 2
}
