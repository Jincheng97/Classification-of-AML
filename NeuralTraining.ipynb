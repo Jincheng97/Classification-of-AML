{
 "cells": [
  {
   "cell_type": "code",
   "execution_count": 1,
   "metadata": {},
   "outputs": [
    {
     "name": "stderr",
     "output_type": "stream",
     "text": [
      "Using TensorFlow backend.\n"
     ]
    }
   ],
   "source": [
    "import keras\n",
    "from keras.layers import Input, Dense, Dropout\n",
    "from keras.models import Model, load_model\n",
    "from keras.layers.merge import concatenate\n",
    "from keras.utils import to_categorical, plot_model\n",
    "from keras.utils.vis_utils import model_to_dot\n",
    "from sklearn.preprocessing import LabelEncoder\n",
    "from sklearn.preprocessing import scale\n",
    "from sklearn.metrics import confusion_matrix\n",
    "import pandas as pd\n",
    "import numpy as np\n",
    "import os\n",
    "import pydot as pyd\n",
    "import seaborn as sb\n",
    "import matplotlib.pyplot as plt\n",
    "\n",
    "keras.utils.vis_utils.pydot = pyd"
   ]
  },
  {
   "cell_type": "code",
   "execution_count": 2,
   "metadata": {},
   "outputs": [],
   "source": [
    "def base_network(net_input):\n",
    "    output = Dense(3, activation='relu')(net_input)\n",
    "    return output"
   ]
  },
  {
   "cell_type": "code",
   "execution_count": 3,
   "metadata": {},
   "outputs": [],
   "source": [
    "def extra_network(net_input, hidden1_filter_num = 32, hidden2_filter_num = 64, hidden3_filter_num = 64, output_num=1):\n",
    "    x = Dense(hidden1_filter_num, activation='relu')(net_input)\n",
    "    x = Dense(hidden2_filter_num, activation='relu')(x)\n",
    "    x = Dense(hidden3_filter_num, activation='relu')(x)\n",
    "    x = Dropout(0.3)(x)\n",
    "    x = Dense(output_num, activation='relu')(x)\n",
    "    return x"
   ]
  },
  {
   "cell_type": "code",
   "execution_count": 4,
   "metadata": {},
   "outputs": [
    {
     "name": "stdout",
     "output_type": "stream",
     "text": [
      "WARNING:tensorflow:From C:\\Users\\jinch\\Anaconda3\\envs\\py37\\lib\\site-packages\\keras\\backend\\tensorflow_backend.py:517: The name tf.placeholder is deprecated. Please use tf.compat.v1.placeholder instead.\n",
      "\n",
      "WARNING:tensorflow:From C:\\Users\\jinch\\Anaconda3\\envs\\py37\\lib\\site-packages\\keras\\backend\\tensorflow_backend.py:74: The name tf.get_default_graph is deprecated. Please use tf.compat.v1.get_default_graph instead.\n",
      "\n",
      "WARNING:tensorflow:From C:\\Users\\jinch\\Anaconda3\\envs\\py37\\lib\\site-packages\\keras\\backend\\tensorflow_backend.py:4138: The name tf.random_uniform is deprecated. Please use tf.random.uniform instead.\n",
      "\n",
      "WARNING:tensorflow:From C:\\Users\\jinch\\Anaconda3\\envs\\py37\\lib\\site-packages\\keras\\backend\\tensorflow_backend.py:133: The name tf.placeholder_with_default is deprecated. Please use tf.compat.v1.placeholder_with_default instead.\n",
      "\n",
      "WARNING:tensorflow:From C:\\Users\\jinch\\Anaconda3\\envs\\py37\\lib\\site-packages\\keras\\backend\\tensorflow_backend.py:3445: calling dropout (from tensorflow.python.ops.nn_ops) with keep_prob is deprecated and will be removed in a future version.\n",
      "Instructions for updating:\n",
      "Please use `rate` instead of `keep_prob`. Rate should be set to `rate = 1 - keep_prob`.\n"
     ]
    }
   ],
   "source": [
    "input_shape = (7,)\n",
    "\n",
    "input1 = Input(input_shape, name = 'input1')\n",
    "input2 = Input(input_shape, name = 'input2')\n",
    "input3 = Input(input_shape, name = 'input3')\n",
    "input4 = Input(input_shape, name = 'input4')\n",
    "input5 = Input(input_shape, name = 'input5')\n",
    "input6 = Input(input_shape, name = 'input6')\n",
    "input7 = Input(input_shape, name = 'input7')\n",
    "input8 = Input(input_shape, name = 'input8')\n",
    "\n",
    "net1 = base_network(input1)\n",
    "net2 = base_network(input2)\n",
    "net3 = base_network(input3)\n",
    "net4 = base_network(input4)\n",
    "net5 = base_network(input5)\n",
    "net6 = base_network(input6)\n",
    "net7 = base_network(input7)\n",
    "net8 = base_network(input8)\n",
    "\n",
    "merged = concatenate([net1, net2, net3, net4, net5, net6, net7, net8])\n",
    "\n",
    "net_output = extra_network(merged, 32, 64, 64, 2)"
   ]
  },
  {
   "cell_type": "code",
   "execution_count": 5,
   "metadata": {},
   "outputs": [
    {
     "name": "stdout",
     "output_type": "stream",
     "text": [
      "WARNING:tensorflow:From C:\\Users\\jinch\\Anaconda3\\envs\\py37\\lib\\site-packages\\keras\\optimizers.py:790: The name tf.train.Optimizer is deprecated. Please use tf.compat.v1.train.Optimizer instead.\n",
      "\n",
      "WARNING:tensorflow:From C:\\Users\\jinch\\Anaconda3\\envs\\py37\\lib\\site-packages\\keras\\backend\\tensorflow_backend.py:3295: The name tf.log is deprecated. Please use tf.math.log instead.\n",
      "\n",
      "__________________________________________________________________________________________________\n",
      "Layer (type)                    Output Shape         Param #     Connected to                     \n",
      "==================================================================================================\n",
      "input1 (InputLayer)             (None, 7)            0                                            \n",
      "__________________________________________________________________________________________________\n",
      "input2 (InputLayer)             (None, 7)            0                                            \n",
      "__________________________________________________________________________________________________\n",
      "input3 (InputLayer)             (None, 7)            0                                            \n",
      "__________________________________________________________________________________________________\n",
      "input4 (InputLayer)             (None, 7)            0                                            \n",
      "__________________________________________________________________________________________________\n",
      "input5 (InputLayer)             (None, 7)            0                                            \n",
      "__________________________________________________________________________________________________\n",
      "input6 (InputLayer)             (None, 7)            0                                            \n",
      "__________________________________________________________________________________________________\n",
      "input7 (InputLayer)             (None, 7)            0                                            \n",
      "__________________________________________________________________________________________________\n",
      "input8 (InputLayer)             (None, 7)            0                                            \n",
      "__________________________________________________________________________________________________\n",
      "dense_1 (Dense)                 (None, 3)            24          input1[0][0]                     \n",
      "__________________________________________________________________________________________________\n",
      "dense_2 (Dense)                 (None, 3)            24          input2[0][0]                     \n",
      "__________________________________________________________________________________________________\n",
      "dense_3 (Dense)                 (None, 3)            24          input3[0][0]                     \n",
      "__________________________________________________________________________________________________\n",
      "dense_4 (Dense)                 (None, 3)            24          input4[0][0]                     \n",
      "__________________________________________________________________________________________________\n",
      "dense_5 (Dense)                 (None, 3)            24          input5[0][0]                     \n",
      "__________________________________________________________________________________________________\n",
      "dense_6 (Dense)                 (None, 3)            24          input6[0][0]                     \n",
      "__________________________________________________________________________________________________\n",
      "dense_7 (Dense)                 (None, 3)            24          input7[0][0]                     \n",
      "__________________________________________________________________________________________________\n",
      "dense_8 (Dense)                 (None, 3)            24          input8[0][0]                     \n",
      "__________________________________________________________________________________________________\n",
      "concatenate_1 (Concatenate)     (None, 24)           0           dense_1[0][0]                    \n",
      "                                                                 dense_2[0][0]                    \n",
      "                                                                 dense_3[0][0]                    \n",
      "                                                                 dense_4[0][0]                    \n",
      "                                                                 dense_5[0][0]                    \n",
      "                                                                 dense_6[0][0]                    \n",
      "                                                                 dense_7[0][0]                    \n",
      "                                                                 dense_8[0][0]                    \n",
      "__________________________________________________________________________________________________\n",
      "dense_9 (Dense)                 (None, 32)           800         concatenate_1[0][0]              \n",
      "__________________________________________________________________________________________________\n",
      "dense_10 (Dense)                (None, 64)           2112        dense_9[0][0]                    \n",
      "__________________________________________________________________________________________________\n",
      "dense_11 (Dense)                (None, 64)           4160        dense_10[0][0]                   \n",
      "__________________________________________________________________________________________________\n",
      "dropout_1 (Dropout)             (None, 64)           0           dense_11[0][0]                   \n",
      "__________________________________________________________________________________________________\n",
      "dense_12 (Dense)                (None, 2)            130         dropout_1[0][0]                  \n",
      "==================================================================================================\n",
      "Total params: 7,394\n",
      "Trainable params: 7,394\n",
      "Non-trainable params: 0\n",
      "__________________________________________________________________________________________________\n"
     ]
    }
   ],
   "source": [
    "model = Model(inputs = [input1, input2, input3, input4, input5, input6, input7, input8], outputs = net_output)\n",
    "model.compile(optimizer='adam', loss='categorical_crossentropy', metrics=['accuracy'])\n",
    "model.summary()"
   ]
  },
  {
   "cell_type": "code",
   "execution_count": 6,
   "metadata": {},
   "outputs": [],
   "source": [
    "from contextlib import redirect_stdout\n",
    "with open('model_summary.txt', 'w') as f:\n",
    "    with redirect_stdout(f):\n",
    "        model.summary()"
   ]
  },
  {
   "cell_type": "code",
   "execution_count": 7,
   "metadata": {},
   "outputs": [],
   "source": [
    "label_path = './AMLTraining.csv'\n",
    "all_label = pd.read_csv(label_path)\n",
    "files = os.listdir('./CSV/')\n",
    "\n",
    "take_normal_data = 1000\n",
    "take_aml_data = 7000\n",
    "x1 = pd.read_csv('./CSV/' + files[0]).iloc[:take_normal_data]\n",
    "x2 = pd.read_csv('./CSV/' + files[1]).iloc[:take_normal_data]\n",
    "x3 = pd.read_csv('./CSV/' + files[2]).iloc[:take_normal_data]\n",
    "x4 = pd.read_csv('./CSV/' + files[3]).iloc[:take_normal_data]\n",
    "x5 = pd.read_csv('./CSV/' + files[4]).iloc[:take_normal_data]\n",
    "x6 = pd.read_csv('./CSV/' + files[5]).iloc[:take_normal_data]\n",
    "x7 = pd.read_csv('./CSV/' + files[6]).iloc[:take_normal_data]\n",
    "x8 = pd.read_csv('./CSV/' + files[7]).iloc[:take_normal_data]\n",
    "y = all_label.iloc[:1]['Label']\n",
    "for i in range(take_normal_data - 1):\n",
    "    y = pd.concat([y, all_label.iloc[0:1]['Label']])\n",
    "for file_num, each_file in enumerate(files):\n",
    "    if file_num >= 8:\n",
    "        if all_label.iloc[file_num]['Label'] == 'normal':\n",
    "                take_data = take_normal_data\n",
    "        elif all_label.iloc[file_num]['Label'] == 'aml':\n",
    "            take_data = take_aml_data\n",
    "        else:\n",
    "            continue\n",
    "        if file_num % 8 == 0:\n",
    "            x1 = pd.concat([x1, pd.read_csv('./CSV/' + each_file)[:take_data]])\n",
    "            for i in range(take_data):\n",
    "                y = pd.concat([y, all_label.iloc[file_num:file_num+1]['Label']])\n",
    "        if file_num % 8 == 1:\n",
    "            x2 = pd.concat([x2, pd.read_csv('./CSV/' + each_file)[:take_data]])\n",
    "        if file_num % 8 == 2:\n",
    "            x3 = pd.concat([x3, pd.read_csv('./CSV/' + each_file)[:take_data]])\n",
    "        if file_num % 8 == 3:\n",
    "            x4 = pd.concat([x4, pd.read_csv('./CSV/' + each_file)[:take_data]])\n",
    "        if file_num % 8 == 4:\n",
    "            x5 = pd.concat([x5, pd.read_csv('./CSV/' + each_file)[:take_data]])\n",
    "        if file_num % 8 == 5:\n",
    "            x6 = pd.concat([x6, pd.read_csv('./CSV/' + each_file)[:take_data]])\n",
    "        if file_num % 8 == 6:\n",
    "            x7 = pd.concat([x7, pd.read_csv('./CSV/' + each_file)[:take_data]])\n",
    "        if file_num % 8 == 7:\n",
    "            x8 = pd.concat([x8, pd.read_csv('./CSV/' + each_file)[:take_data]])\n",
    "\n",
    "x1['FS Lin'] = scale(x1['FS Lin'])\n",
    "x2['FS Lin'] = scale(x2['FS Lin'])\n",
    "x3['FS Lin'] = scale(x3['FS Lin'])\n",
    "x4['FS Lin'] = scale(x4['FS Lin'])\n",
    "x5['FS Lin'] = scale(x5['FS Lin'])\n",
    "x6['FS Lin'] = scale(x6['FS Lin'])\n",
    "x7['FS Lin'] = scale(x7['FS Lin'])\n",
    "x8['FS Lin'] = scale(x8['FS Lin'])\n",
    "\n",
    "# x1.to_csv('x1.csv', index = False)\n",
    "# x2.to_csv('x2.csv', index = False)\n",
    "# x3.to_csv('x3.csv', index = False)\n",
    "# x4.to_csv('x4.csv', index = False)\n",
    "# x5.to_csv('x5.csv', index = False)\n",
    "# x6.to_csv('x6.csv', index = False)\n",
    "# x7.to_csv('x7.csv', index = False)\n",
    "# x8.to_csv('x8.csv', index = False)\n",
    "# y.to_csv('y.csv', index = False, header = True)\n",
    "\n",
    "le = LabelEncoder()\n",
    "y = le.fit_transform(y)\n",
    "y_binary = to_categorical(y)"
   ]
  },
  {
   "cell_type": "code",
   "execution_count": 8,
   "metadata": {},
   "outputs": [],
   "source": [
    "# x1 = pd.read_csv('./x1.csv')\n",
    "# x2 = pd.read_csv('./x2.csv')\n",
    "# x3 = pd.read_csv('./x3.csv')\n",
    "# x4 = pd.read_csv('./x4.csv')\n",
    "# x5 = pd.read_csv('./x5.csv')\n",
    "# x6 = pd.read_csv('./x6.csv')\n",
    "# x7 = pd.read_csv('./x7.csv')\n",
    "# x8 = pd.read_csv('./x8.csv')\n",
    "# y = pd.read_csv('./y.csv')\n",
    "# le = LabelEncoder()\n",
    "# y = le.fit_transform(y)\n",
    "# y_binary = to_categorical(y)"
   ]
  },
  {
   "cell_type": "code",
   "execution_count": 9,
   "metadata": {},
   "outputs": [
    {
     "name": "stdout",
     "output_type": "stream",
     "text": [
      "WARNING:tensorflow:From C:\\Users\\jinch\\Anaconda3\\envs\\py37\\lib\\site-packages\\tensorflow_core\\python\\ops\\math_grad.py:1424: where (from tensorflow.python.ops.array_ops) is deprecated and will be removed in a future version.\n",
      "Instructions for updating:\n",
      "Use tf.where in 2.0, which has the same broadcast rule as np.where\n",
      "WARNING:tensorflow:From C:\\Users\\jinch\\Anaconda3\\envs\\py37\\lib\\site-packages\\keras\\backend\\tensorflow_backend.py:986: The name tf.assign_add is deprecated. Please use tf.compat.v1.assign_add instead.\n",
      "\n",
      "WARNING:tensorflow:From C:\\Users\\jinch\\Anaconda3\\envs\\py37\\lib\\site-packages\\keras\\backend\\tensorflow_backend.py:973: The name tf.assign is deprecated. Please use tf.compat.v1.assign instead.\n",
      "\n",
      "WARNING:tensorflow:From C:\\Users\\jinch\\Anaconda3\\envs\\py37\\lib\\site-packages\\keras\\backend\\tensorflow_backend.py:2741: The name tf.Session is deprecated. Please use tf.compat.v1.Session instead.\n",
      "\n",
      "Train on 285300 samples, validate on 31700 samples\n",
      "Epoch 1/25\n",
      "WARNING:tensorflow:From C:\\Users\\jinch\\Anaconda3\\envs\\py37\\lib\\site-packages\\keras\\backend\\tensorflow_backend.py:174: The name tf.get_default_session is deprecated. Please use tf.compat.v1.get_default_session instead.\n",
      "\n",
      "WARNING:tensorflow:From C:\\Users\\jinch\\Anaconda3\\envs\\py37\\lib\\site-packages\\keras\\backend\\tensorflow_backend.py:181: The name tf.ConfigProto is deprecated. Please use tf.compat.v1.ConfigProto instead.\n",
      "\n",
      "WARNING:tensorflow:From C:\\Users\\jinch\\Anaconda3\\envs\\py37\\lib\\site-packages\\keras\\backend\\tensorflow_backend.py:190: The name tf.global_variables is deprecated. Please use tf.compat.v1.global_variables instead.\n",
      "\n",
      "WARNING:tensorflow:From C:\\Users\\jinch\\Anaconda3\\envs\\py37\\lib\\site-packages\\keras\\backend\\tensorflow_backend.py:199: The name tf.is_variable_initialized is deprecated. Please use tf.compat.v1.is_variable_initialized instead.\n",
      "\n",
      "WARNING:tensorflow:From C:\\Users\\jinch\\Anaconda3\\envs\\py37\\lib\\site-packages\\keras\\backend\\tensorflow_backend.py:206: The name tf.variables_initializer is deprecated. Please use tf.compat.v1.variables_initializer instead.\n",
      "\n",
      "285300/285300 [==============================] - 100s 349us/step - loss: 0.3288 - acc: 0.8740 - val_loss: 0.3909 - val_acc: 0.8259\n",
      "Epoch 2/25\n",
      "285300/285300 [==============================] - 97s 339us/step - loss: 0.2378 - acc: 0.9093 - val_loss: 0.3240 - val_acc: 0.8612\n",
      "Epoch 3/25\n",
      "285300/285300 [==============================] - 96s 337us/step - loss: 0.2172 - acc: 0.9168 - val_loss: 0.2928 - val_acc: 0.8836\n",
      "Epoch 4/25\n",
      "285300/285300 [==============================] - 90s 316us/step - loss: 0.2075 - acc: 0.9192 - val_loss: 0.2932 - val_acc: 0.8733\n",
      "Epoch 5/25\n",
      "285300/285300 [==============================] - 90s 315us/step - loss: 0.1969 - acc: 0.9227 - val_loss: 0.3253 - val_acc: 0.8546\n",
      "Epoch 6/25\n",
      "285300/285300 [==============================] - 94s 328us/step - loss: 0.1902 - acc: 0.9250 - val_loss: 0.2878 - val_acc: 0.8748\n",
      "Epoch 7/25\n",
      "285300/285300 [==============================] - 91s 319us/step - loss: 0.1851 - acc: 0.9266 - val_loss: 0.2687 - val_acc: 0.8943\n",
      "Epoch 8/25\n",
      "285300/285300 [==============================] - 91s 317us/step - loss: 0.1900 - acc: 0.9247 - val_loss: 0.2559 - val_acc: 0.8926\n",
      "Epoch 9/25\n",
      "285300/285300 [==============================] - 91s 317us/step - loss: 0.1809 - acc: 0.9281 - val_loss: 0.2535 - val_acc: 0.8949\n",
      "Epoch 10/25\n",
      "285300/285300 [==============================] - 89s 314us/step - loss: 0.1761 - acc: 0.9303 - val_loss: 0.2566 - val_acc: 0.8945\n",
      "Epoch 11/25\n",
      "285300/285300 [==============================] - 86s 303us/step - loss: 0.1721 - acc: 0.9315 - val_loss: 0.2702 - val_acc: 0.8918\n",
      "Epoch 12/25\n",
      "285300/285300 [==============================] - 83s 291us/step - loss: 0.1699 - acc: 0.9328 - val_loss: 0.2552 - val_acc: 0.8936\n",
      "Epoch 13/25\n",
      "285300/285300 [==============================] - 87s 303us/step - loss: 0.1667 - acc: 0.9340 - val_loss: 0.2708 - val_acc: 0.8933\n",
      "Epoch 14/25\n",
      "285300/285300 [==============================] - 83s 290us/step - loss: 0.1723 - acc: 0.9321 - val_loss: 0.2718 - val_acc: 0.8876\n",
      "Epoch 15/25\n",
      "285300/285300 [==============================] - 87s 304us/step - loss: 0.1661 - acc: 0.9346 - val_loss: 0.2795 - val_acc: 0.8789\n",
      "Epoch 16/25\n",
      "285300/285300 [==============================] - 95s 334us/step - loss: 0.1617 - acc: 0.9368 - val_loss: 0.2735 - val_acc: 0.9023\n",
      "Epoch 17/25\n",
      "285300/285300 [==============================] - 91s 318us/step - loss: 0.1626 - acc: 0.9367 - val_loss: 0.3010 - val_acc: 0.8756\n",
      "Epoch 18/25\n",
      "285300/285300 [==============================] - 92s 323us/step - loss: 0.1571 - acc: 0.9385 - val_loss: 0.2486 - val_acc: 0.9004\n",
      "Epoch 19/25\n",
      "285300/285300 [==============================] - 91s 320us/step - loss: 0.1589 - acc: 0.9380 - val_loss: 0.2994 - val_acc: 0.8738\n",
      "Epoch 20/25\n",
      "285300/285300 [==============================] - 91s 318us/step - loss: 0.1545 - acc: 0.9396 - val_loss: 0.2670 - val_acc: 0.8970\n",
      "Epoch 21/25\n",
      "285300/285300 [==============================] - 92s 324us/step - loss: 0.1540 - acc: 0.9393 - val_loss: 0.2937 - val_acc: 0.8882\n",
      "Epoch 22/25\n",
      "285300/285300 [==============================] - 92s 323us/step - loss: 0.1728 - acc: 0.9333 - val_loss: 0.2836 - val_acc: 0.8777\n",
      "Epoch 23/25\n",
      "285300/285300 [==============================] - 92s 322us/step - loss: 0.1540 - acc: 0.9395 - val_loss: 0.2344 - val_acc: 0.9029\n",
      "Epoch 24/25\n",
      "285300/285300 [==============================] - 90s 317us/step - loss: 0.1571 - acc: 0.9385 - val_loss: 0.2634 - val_acc: 0.8879\n",
      "Epoch 25/25\n",
      "285300/285300 [==============================] - 94s 329us/step - loss: 0.1495 - acc: 0.9411 - val_loss: 0.2698 - val_acc: 0.8862\n"
     ]
    },
    {
     "data": {
      "text/plain": [
       "<keras.callbacks.History at 0x2420630ee88>"
      ]
     },
     "execution_count": 9,
     "metadata": {},
     "output_type": "execute_result"
    }
   ],
   "source": [
    "model.fit([x1, x2, x3, x4, x5, x6, x7, x8], y=y_binary, epochs=25, batch_size=32, validation_split=0.1, shuffle=True)"
   ]
  },
  {
   "cell_type": "code",
   "execution_count": 10,
   "metadata": {},
   "outputs": [],
   "source": [
    "model.save_weights('model_weights.h5')"
   ]
  },
  {
   "cell_type": "code",
   "execution_count": 11,
   "metadata": {},
   "outputs": [],
   "source": [
    "# Save model\n",
    "model.save('model.h5')"
   ]
  },
  {
   "cell_type": "code",
   "execution_count": 12,
   "metadata": {},
   "outputs": [],
   "source": [
    "plot_model(model, to_file='model.png')"
   ]
  },
  {
   "cell_type": "code",
   "execution_count": 13,
   "metadata": {},
   "outputs": [],
   "source": [
    "model = load_model('model.h5')\n",
    "result = model.predict({'input1': x1, 'input2': x2, 'input3': x3, 'input4': x4, \\\n",
    "                        'input5': x5, 'input6': x6, 'input7': x7, 'input8': x8})\n",
    "prediction = []\n",
    "for i in range(len(result)):\n",
    "    if result[i][0] > result[i][1]:\n",
    "        prediction.append(0)\n",
    "    else:\n",
    "        prediction.append(1)"
   ]
  },
  {
   "cell_type": "code",
   "execution_count": 15,
   "metadata": {},
   "outputs": [
    {
     "name": "stdout",
     "output_type": "stream",
     "text": [
      "               Pred: normal  Pred: AML\n",
      "Truth: normal        146979      14021\n",
      "Truth: AML             6196     149804\n",
      "Accuracy: 0.9362239747634069\n",
      "F-measure:0.9367873055577269\n",
      "Balanced accuracy: 0.9365975473801561\n",
      "MCC: 0.8735796160689991\n"
     ]
    }
   ],
   "source": [
    "conf_mat = confusion_matrix(y, np.array(prediction))\n",
    "row_labels = ['Truth: normal', 'Truth: AML']\n",
    "column_labels = ['Pred: normal', 'Pred: AML']\n",
    "df = pd.DataFrame(conf_mat, columns=column_labels, index=row_labels)\n",
    "TN = conf_mat[0][0]/(np.sum(conf_mat))\n",
    "FP = conf_mat[0][1]/(np.sum(conf_mat))\n",
    "FN = conf_mat[1][0]/(np.sum(conf_mat))\n",
    "TP = conf_mat[1][1]/(np.sum(conf_mat))\n",
    "accuracy = (TN + TP)/(TN + FP + FN + TP)\n",
    "error = 1 - accuracy\n",
    "sensitivity = TP/(TP + FN)\n",
    "specificity = TN/(FP + TN)\n",
    "false_alarm = 1 - specificity\n",
    "precision = TP/(TP + FP)\n",
    "recall = TP/(TP + FN)\n",
    "FDR = 1 - precision\n",
    "F_measure = (2*TP)/(2*TP + FP + FN)\n",
    "balanced_accuracy = (sensitivity + specificity)/2\n",
    "MCC = (TP*TN - FP*FN)/np.sqrt((TP+FP)*(TP+FN)*(TN+FP)*(TN+FN))\n",
    "print(df)\n",
    "print('Accuracy: ' + str(accuracy))\n",
    "print('F-measure:' + str(F_measure))\n",
    "print('Balanced accuracy: ' + str(balanced_accuracy))\n",
    "print('MCC: ' + str(MCC))"
   ]
  },
  {
   "cell_type": "code",
   "execution_count": null,
   "metadata": {},
   "outputs": [],
   "source": []
  }
 ],
 "metadata": {
  "kernelspec": {
   "display_name": "Python 3",
   "language": "python",
   "name": "python3"
  },
  "language_info": {
   "codemirror_mode": {
    "name": "ipython",
    "version": 3
   },
   "file_extension": ".py",
   "mimetype": "text/x-python",
   "name": "python",
   "nbconvert_exporter": "python",
   "pygments_lexer": "ipython3",
   "version": "3.7.6"
  }
 },
 "nbformat": 4,
 "nbformat_minor": 2
}
